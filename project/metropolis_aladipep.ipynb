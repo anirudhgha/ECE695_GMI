{
 "cells": [
  {
   "cell_type": "markdown",
   "id": "ignored-eclipse",
   "metadata": {},
   "source": [
    "# Metropolis on alanine dipeptide with random intialization\n",
    "\n",
    "**Anirudh Ghantasala, Datta Group, Purdue University**  \n",
    "Last updated: 3-17-21  \n",
    "\n",
    "1. Define the user parameters (timesteps)\n",
    "2. Define a proposal distribution for particles based on the current state\n",
    "3. Run simulation \n"
   ]
  },
  {
   "cell_type": "code",
   "execution_count": 5,
   "id": "retired-adelaide",
   "metadata": {},
   "outputs": [],
   "source": [
    "from openmmtools import mcmc, testsystems, states, cache\n",
    "from simtk import openmm\n",
    "from simtk import unit\n",
    "import numpy as np\n",
    "import matplotlib.pyplot as plt\n",
    "import nglview as nv\n",
    "import mdtraj as md\n",
    "import MDAnalysis\n",
    "import MDAnalysis.analysis.rms\n",
    "\n",
    "\n",
    "# user parameters ---------------------------------------------------\n",
    "timesteps = 500\n",
    "#--------------------------------------------------------------------"
   ]
  },
  {
   "cell_type": "code",
   "execution_count": 6,
   "id": "classical-might",
   "metadata": {},
   "outputs": [],
   "source": [
    "# Proposal Class, implements some logic that proposes a next state based on the current state (initial_positions)\n",
    "class AddGaussianVector(mcmc.MetropolizedMove):\n",
    "    def __init__(self, **kwargs):\n",
    "        super(AddGaussianVector, self).__init__(**kwargs)\n",
    "\n",
    "    def _propose_positions(self, initial_positions):\n",
    "        \n",
    "        ## PBIT MODULE#####\n",
    "        # input: x,y,z\n",
    "        # output: xp, yp, zp\n",
    "        \n",
    "        num_pbits = 18\n",
    "        \n",
    "        # read in initial positions (x,y,z) into pbits\n",
    "        p = initial_positions.value_in_unit(unit.angstrom)\n",
    "#         print('initial: ', p)\n",
    "        x,y,z = round(p[0,0]*1000), round(p[0,1]*1000), round(p[0,2]*1000)\n",
    "        binx = bin(x).replace(\"0b\", \"\").zfill(num_pbits)\n",
    "        biny = bin(y).replace(\"0b\", \"\").zfill(num_pbits)\n",
    "        binz = bin(z).replace(\"0b\", \"\").zfill(num_pbits)\n",
    "        \n",
    "        #binxyz are strings\n",
    "        \n",
    "        # find gaussian probabilities to give p-bit gaussian generators\n",
    "        x = np.arange(3,0, -3/num_pbits)\n",
    "        y = np.exp(-1*pow(x,2)/2)/np.sqrt(2*np.pi)\n",
    "        \n",
    "        # flip pbits according to guassian probabilities, most_val first\n",
    "        all_bin = []\n",
    "        for num in [binx, biny, binz]:\n",
    "            \n",
    "            # create a gaussian binary noise vector and a sign bit\n",
    "            pbits_flipped = ''\n",
    "\n",
    "            for i in range(num_pbits):\n",
    "                r = np.random.uniform(0,1)\n",
    "                if r < y[i]:\n",
    "                    pbits_flipped += '1'\n",
    "                else:\n",
    "                    pbits_flipped += '0'\n",
    "            sign_bit = -1\n",
    "            if np.random.uniform(0,1) < 0.5:\n",
    "                sign_bit = 1;\n",
    "            \n",
    "            # add noise vector to current state\n",
    "            all_bin.append(bin(int(num,2) + int(pbits_flipped,2)*sign_bit).replace(\"0b\", \"\").zfill(num_pbits))\n",
    "            \n",
    "        # convert new state to integer\n",
    "        decimals = []\n",
    "        for i,val in enumerate(all_bin):\n",
    "            decimals.append(int(val,2)/1000)\n",
    "            \n",
    "#         print('proposal: ', decimals)\n",
    "        \n",
    "        pbit_displacement = unit.Quantity(np.array(decimals), unit.angstrom)\n",
    "        \n",
    "        mean, var = 0, .01\n",
    "        x_prop, y_prop, z_prop = np.random.normal(mean, var), np.random.normal(mean, var), np.random.normal(mean, var)\n",
    "        displacement = unit.Quantity(np.array([x_prop, y_prop, z_prop]), initial_positions.unit)\n",
    "        return initial_positions + displacement\n",
    "#         return proposal"
   ]
  },
  {
   "cell_type": "code",
   "execution_count": 7,
   "id": "noted-belle",
   "metadata": {
    "scrolled": false
   },
   "outputs": [
    {
     "name": "stdout",
     "output_type": "stream",
     "text": [
      "accepted 3171/11000: \n"
     ]
    },
    {
     "data": {
      "image/png": "[encoded data removed]",
      "text/plain": [
       "<Figure size 432x288 with 2 Axes>"
      ]
     },
     "metadata": {
      "needs_background": "light"
     },
     "output_type": "display_data"
    },
    {
     "name": "stdout",
     "output_type": "stream",
     "text": [
      "Simulation Complete!\n"
     ]
    }
   ],
   "source": [
    "def distance(x, correct):\n",
    "    for k in range(3):\n",
    "        x[:, k] -= np.mean(x[:, k])\n",
    "        correct[:, k] -= np.mean(correct[:, k])\n",
    "    noise = np.subtract(x, correct)\n",
    "    return np.sqrt(np.sum(np.square(noise)))\n",
    "\n",
    "# platform = openmm.Platform.getPlatformByName('CUDA')\n",
    "# cache.global_context_cache.platform = platform\n",
    "\n",
    "# Create the initial state (thermodynamic and microscopic) for an alanine dipeptide system in vacuum.\n",
    "alanine = testsystems.AlanineDipeptideVacuum(constraints=None)\n",
    "sampler_state = states.SamplerState(alanine.positions)\n",
    "thermodynamic_state = states.ThermodynamicState(alanine.system, 1 * unit.kelvin)\n",
    "e, d, rmsd, trajectory = [], [], [], []\n",
    "\n",
    "context_cache = cache.global_context_cache\n",
    "context, unused_integrator = context_cache.get_context(thermodynamic_state)\n",
    "sampler_state.apply_to_context(context)\n",
    "\n",
    "# initialize energy, distance, and trajectory\n",
    "correct_state = sampler_state.positions.copy()\n",
    "e.append(thermodynamic_state.reduced_potential(context))\n",
    "d.append(distance(sampler_state.positions, sampler_state.positions))\n",
    "trajectory.append(sampler_state.positions.copy())\n",
    "rmsd.append(MDAnalysis.analysis.rms.rmsd(correct_state, correct_state, center=True, superposition=True))\n",
    "\n",
    "# Add perterbance to correct state\n",
    "for i, molecule in enumerate(sampler_state.positions):\n",
    "\n",
    "    noise_low, noise_high = -1, 1\n",
    "    sampler_state.positions[i][0] += unit.quantity.Quantity(value= np.random.uniform(noise_low, noise_high), unit=unit.nanometer)\n",
    "    sampler_state.positions[i][1] += unit.quantity.Quantity(value= np.random.uniform(noise_low, noise_high), unit=unit.nanometer)\n",
    "    sampler_state.positions[i][2] += unit.quantity.Quantity(value= np.random.uniform(noise_low, noise_high), unit=unit.nanometer)\n",
    "\n",
    "# Create an update MCMC move that brings us back to the initial configuration.\n",
    "current_state = sampler_state.positions.copy()\n",
    "total_accepted, total_proposed = 0, 0\n",
    "\n",
    "for ii in range(timesteps):\n",
    "    for jj in range(sampler_state.n_particles):\n",
    "        move = AddGaussianVector(atom_subset=[jj])\n",
    "        move.apply(thermodynamic_state, sampler_state)\n",
    "        if move.n_accepted == 1:\n",
    "            total_accepted += 1\n",
    "        total_proposed += 1\n",
    "\n",
    "    # measure naive euclidean distance\n",
    "    current_state = sampler_state.positions.copy()\n",
    "    d.append(distance(current_state, correct_state))\n",
    "    \n",
    "    # measure energy\n",
    "    sampler_state.apply_to_context(context, ignore_velocities=True)\n",
    "    e.append(thermodynamic_state.reduced_potential(context))\n",
    "\n",
    "    # build trajectory\n",
    "    trajectory.append(current_state)\n",
    "\n",
    "    # measure rmsd with alignment\n",
    "    rmsd.append(MDAnalysis.analysis.rms.rmsd(current_state, correct_state, center=True, superposition=True))\n",
    "    \n",
    "\n",
    "print('accepted {}/{}: '.format(total_accepted, total_proposed))\n",
    "\n",
    "fig, ((ax1),(ax2)) = plt.subplots(2, 1, sharex=True)\n",
    "ax1.plot(rmsd, label='Euclidean dist')\n",
    "ax1.set_title('RMSD to ground state with Alignment')\n",
    "ax1.set_ylabel('Euclidean Distance (nm)')\n",
    "ax2.plot(e, label='Energy')\n",
    "ax2.set_yscale('log')\n",
    "ax2.set_title('Energy of conformation')\n",
    "ax2.set_xlabel('Timesteps')\n",
    "ax2.set_ylabel('Energy')\n",
    "# ax2.text(2, 10, r'Original Energy {}'.format(e[0]), fontsize=15)\n",
    "plt.show()\n",
    "\n",
    "print('Simulation Complete!')"
   ]
  },
  {
   "cell_type": "code",
   "execution_count": 8,
   "id": "solved-heath",
   "metadata": {
    "scrolled": false
   },
   "outputs": [
    {
     "data": {
      "application/vnd.jupyter.widget-view+json": {
       "model_id": "12f99194a9b645d0a72984c5207d69ed",
       "version_major": 2,
       "version_minor": 0
      },
      "text/plain": [
       "NGLWidget(max_frame=500)"
      ]
     },
     "metadata": {},
     "output_type": "display_data"
    }
   ],
   "source": [
    "# Visualize the simulation\n",
    "traj = md.Trajectory(trajectory, topology=alanine.mdtraj_topology)\n",
    "traj.save('trajectory.pdb')\n",
    "view = nv.show_mdtraj(traj)\n",
    "view"
   ]
  },
  {
   "cell_type": "code",
   "execution_count": null,
   "id": "indie-possibility",
   "metadata": {},
   "outputs": [],
   "source": [
    "# uncomment to select frame, reflects in above view\n",
    "# view.frame = 0\n",
    "\n",
    "# to download movie, open the saved .pdb file in pyMOL and file -> export movie as -> mpeg"
   ]
  },
  {
   "cell_type": "markdown",
   "id": "expired-exposure",
   "metadata": {},
   "source": [
    "## Obsolete cells, may be useful for testing"
   ]
  },
  {
   "cell_type": "code",
   "execution_count": null,
   "id": "sporting-complexity",
   "metadata": {
    "scrolled": false
   },
   "outputs": [],
   "source": [
    "# # Generating movie from download images... \n",
    "# # code for this cell: https://ambermd.org/tutorials/analysis/tutorial_notebooks/nglview_movie/index.html\n",
    "# import moviepy.editor as mpy\n",
    "\n",
    "# from time import sleep\n",
    "\n",
    "\n",
    "# for frame in range(0, timesteps):\n",
    "#     # set frame to update coordinates\n",
    "#     view.frame = frame\n",
    "#     # make sure to let NGL spending enough time to update coordinates\n",
    "#     # sleep(0.5)\n",
    "#     view.download_image(filename='0image{}.png'.format(frame))\n",
    "#     # make sure to let NGL spending enough time to render before going to next frame\n",
    "#     sleep(2.0)\n",
    "\n",
    "# # end download code\n",
    "# # begin stitching-into-gif code\n",
    "    \n",
    "# # In my case, my default download folder is /Users/haichit/Downloads/\n",
    "# template = '/Users/alasg/Downloads/0image{}.png'\n",
    "\n",
    "# # get all (sorted) image files\n",
    "# imagefiles = [template.format(str(i)) for i in range(0, timesteps, 1)]\n",
    "\n",
    "# frames_per_second = 8\n",
    "# im = mpy.ImageSequenceClip(imagefiles, fps=frames_per_second)\n",
    "# im.write_gif('my_movie.gif', fps=frames_per_second)\n",
    "# # im.write_videofile('my_movie.mp4', fps=frame_per_second)\n",
    "# from IPython import display\n",
    "\n",
    "# display.HTML(\"<img src='my_movie.gif'></img>\")"
   ]
  },
  {
   "cell_type": "code",
   "execution_count": null,
   "id": "proper-visibility",
   "metadata": {
    "scrolled": true
   },
   "outputs": [],
   "source": [
    "# from nglview.contrib.movie import MovieMaker\n",
    "# movie = MovieMaker(view, download_folder='/Users/alasg/Downloads/', output='my.gif', in_memory=True)\n",
    "# movie.make()"
   ]
  },
  {
   "cell_type": "code",
   "execution_count": null,
   "id": "applied-british",
   "metadata": {
    "scrolled": false
   },
   "outputs": [],
   "source": [
    "# from nglview.contrib.movie import MovieMaker\n",
    "# moviepy_params = {\n",
    "#     'codec': 'mpeg4'\n",
    "# }\n",
    "# movie = MovieMaker(view, output='my.avi', in_memory=False, moviepy_params=moviepy_params)\n",
    "# movie.make()"
   ]
  },
  {
   "cell_type": "code",
   "execution_count": null,
   "id": "qualified-woman",
   "metadata": {
    "scrolled": true
   },
   "outputs": [],
   "source": [
    "# JUST TO TEST NGLVIEW INSTALLATION\n",
    "# import nglview as ngl\n",
    "\n",
    "# view = nv.show_file(nv.datafiles.ALA3)\n",
    "# view"
   ]
  }
 ],
 "metadata": {
  "kernelspec": {
   "display_name": "Python 3",
   "language": "python",
   "name": "python3"
  },
  "language_info": {
   "codemirror_mode": {
    "name": "ipython",
    "version": 3
   },
   "file_extension": ".py",
   "mimetype": "text/x-python",
   "name": "python",
   "nbconvert_exporter": "python",
   "pygments_lexer": "ipython3",
   "version": "3.7.9"
  }
 },
 "nbformat": 4,
 "nbformat_minor": 5
}
