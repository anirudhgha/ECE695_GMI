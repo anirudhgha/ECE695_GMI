{
 "cells": [
  {
   "cell_type": "markdown",
   "id": "ignored-eclipse",
   "metadata": {},
   "source": [
    "# Metropolis on alanine dipeptide with random intialization\n",
    "\n",
    "**Anirudh Ghantasala, Datta Group, Purdue University**  \n",
    "Last updated: 3-17-21  \n",
    "\n",
    "1. Define the user parameters (timesteps, desired outputs)\n",
    "2. Define a proposal distribution for particles based on the current state\n",
    "3. Run simulation \n"
   ]
  },
  {
   "cell_type": "code",
   "execution_count": 81,
   "id": "retired-adelaide",
   "metadata": {},
   "outputs": [],
   "source": [
    "# user parameters ---------------------------------------------------\n",
    "timesteps = 100\n",
    "plot_distance_energy = True\n",
    "download_movie = True\n",
    "#--------------------------------------------------------------------"
   ]
  },
  {
   "cell_type": "code",
   "execution_count": 82,
   "id": "classical-might",
   "metadata": {},
   "outputs": [],
   "source": [
    "# Proposal Class, implements some logic that proposes a next state based on the current state (initial_positions)\n",
    "class AddGaussianVector(mcmc.MetropolizedMove):\n",
    "    def __init__(self, **kwargs):\n",
    "        super(AddGaussianVector, self).__init__(**kwargs)\n",
    "\n",
    "    def _propose_positions(self, initial_positions):\n",
    "        # displacement = unit.Quantity(np.array([1, 1, 1]), initial_positions.unit)\n",
    "        mean, var = 0, .1\n",
    "        x_prop, y_prop, z_prop = np.random.normal(mean, var), np.random.normal(mean, var), np.random.normal(mean, var)\n",
    "        displacement = unit.Quantity(np.array([x_prop, y_prop, z_prop]), initial_positions.unit)\n",
    "        return initial_positions + displacement\n"
   ]
  },
  {
   "cell_type": "code",
   "execution_count": 83,
   "id": "noted-belle",
   "metadata": {
    "scrolled": false
   },
   "outputs": [
    {
     "name": "stdout",
     "output_type": "stream",
     "text": [
      "TOTAL PARTICLES:  22\n",
      "accepted 352/2200: \n"
     ]
    },
    {
     "data": {
      "image/png": "[encoded data removed]",
      "text/plain": [
       "<Figure size 432x288 with 2 Axes>"
      ]
     },
     "metadata": {
      "needs_background": "light"
     },
     "output_type": "display_data"
    },
    {
     "name": "stdout",
     "output_type": "stream",
     "text": [
      "Simulation Complete!\n"
     ]
    }
   ],
   "source": [
    "from openmmtools import mcmc, testsystems, states, cache\n",
    "from simtk import openmm\n",
    "from simtk import unit\n",
    "import numpy as np\n",
    "import matplotlib.pyplot as plt\n",
    "import nglview as nv\n",
    "import mdtraj as md\n",
    "\n",
    "\n",
    "def distance(x, correct):\n",
    "    for k in range(3):\n",
    "        x[:, k] -= np.mean(x[:, k])\n",
    "        correct[:, k] -= np.mean(correct[:, k])\n",
    "    noise = np.subtract(x, correct)\n",
    "    return np.sqrt(np.sum(np.square(noise)))\n",
    "\n",
    "# platform = openmm.Platform.getPlatformByName('CUDA')\n",
    "# cache.global_context_cache.platform = platform\n",
    "\n",
    "# Create the initial state (thermodynamic and microscopic) for an alanine dipeptide system in vacuum.\n",
    "alanine = testsystems.AlanineDipeptideVacuum(constraints=None)\n",
    "sampler_state = states.SamplerState(alanine.positions)\n",
    "thermodynamic_state = states.ThermodynamicState(alanine.system, 1 * unit.kelvin)\n",
    "e, d, trajectory = [], [], []\n",
    "context_cache = cache.global_context_cache\n",
    "context, unused_integrator = context_cache.get_context(thermodynamic_state)\n",
    "sampler_state.apply_to_context(context)\n",
    "\n",
    "# initialize energy, distance, and trajectory\n",
    "e.append(thermodynamic_state.reduced_potential(context))\n",
    "d.append(distance(sampler_state.positions, sampler_state.positions))\n",
    "trajectory.append(sampler_state.positions.copy())\n",
    "\n",
    "# shift mean of molecule to 0,0,0\n",
    "for k in range(3):\n",
    "    sampler_state.positions[:, k] -= np.mean(sampler_state.positions[:, k])\n",
    "sampler_state.apply_to_context(context, ignore_velocities=True)\n",
    "\n",
    "\n",
    "\n",
    "# Add perterbance to correct state\n",
    "noise = np.zeros((sampler_state.n_particles, 3))\n",
    "correct_state = sampler_state.positions.copy()\n",
    "for i, molecule in enumerate(sampler_state.positions):\n",
    "\n",
    "    noise_low, noise_high = -1, 1\n",
    "    sampler_state.positions[i][0] += unit.quantity.Quantity(value= np.random.uniform(noise_low, noise_high), unit=unit.nanometer)\n",
    "    sampler_state.positions[i][1] += unit.quantity.Quantity(value= np.random.uniform(noise_low, noise_high), unit=unit.nanometer)\n",
    "    sampler_state.positions[i][2] += unit.quantity.Quantity(value= np.random.uniform(noise_low, noise_high), unit=unit.nanometer)\n",
    "\n",
    "\n",
    "sampler_state.apply_to_context(context)\n",
    "e.append(thermodynamic_state.reduced_potential(context))\n",
    "d.append(distance(sampler_state.positions.copy(), correct_state))\n",
    "trajectory.append(sampler_state.positions.copy())\n",
    "\n",
    "\n",
    "# Create an update MCMC move that brings us back to the initial configuration.\n",
    "current_state = sampler_state.positions.copy()\n",
    "total_accepted, total_proposed = 0, 0\n",
    "\n",
    "print('TOTAL PARTICLES: ', sampler_state.n_particles)\n",
    "for ii in range(timesteps):\n",
    "    for jj in range(sampler_state.n_particles):\n",
    "        move = AddGaussianVector(atom_subset=[jj])\n",
    "        move.apply(thermodynamic_state, sampler_state)\n",
    "        if move.n_accepted == 1:\n",
    "            total_accepted += 1\n",
    "        total_proposed += 1\n",
    "\n",
    "    # measure euclidean distance\n",
    "    current_state = sampler_state.positions.copy()\n",
    "    d.append(distance(current_state, correct_state))\n",
    "\n",
    "    # measure energy\n",
    "    sampler_state.apply_to_context(context, ignore_velocities=True)\n",
    "    e.append(thermodynamic_state.reduced_potential(context))\n",
    "\n",
    "    # build trajectory\n",
    "    trajectory.append(current_state)\n",
    "\n",
    "\n",
    "# statistics and diagrams\n",
    "\n",
    "print('accepted {}/{}: '.format(total_accepted, total_proposed))\n",
    "\n",
    "\n",
    "\n",
    "if draw_init_final_positions:\n",
    "    plt.figure(2)\n",
    "    ax2 = plt.axes(projection='3d')\n",
    "    xdata = sampler_state.positions[:, 0]\n",
    "    ydata = sampler_state.positions[:, 1]\n",
    "    zdata = sampler_state.positions[:, 2]\n",
    "    ax2.scatter3D(xdata, ydata, zdata, cmap='Greens')\n",
    "    plt.title('Final particle conformation')\n",
    "\n",
    "if plot_distance_energy:\n",
    "\n",
    "    fig, ((ax1),(ax2)) = plt.subplots(2, 1, sharex=True)\n",
    "    ax1.plot(d, label='Euclidean dist')\n",
    "    ax1.set_title('Euclidean Distance to ground state')\n",
    "    ax1.set_ylabel('Euclidean Distance (nm)')\n",
    "    ax2.plot(e, label='Energy')\n",
    "    ax2.set_yscale('log')\n",
    "    ax2.set_title('Energy of conformation')\n",
    "    ax2.set_xlabel('Timesteps')\n",
    "    ax2.set_ylabel('Energy')\n",
    "    # ax2.text(2, 10, r'Original Energy {}'.format(e[0]), fontsize=15)\n",
    "\n",
    "\n",
    "\n",
    "\n",
    "plt.show()\n",
    "print('Simulation Complete!')"
   ]
  },
  {
   "cell_type": "code",
   "execution_count": 86,
   "id": "solved-heath",
   "metadata": {
    "scrolled": true
   },
   "outputs": [
    {
     "data": {
      "application/vnd.jupyter.widget-view+json": {
       "model_id": "71cb02cff252431d9645e2a18b982a33",
       "version_major": 2,
       "version_minor": 0
      },
      "text/plain": [
       "NGLWidget(max_frame=101)"
      ]
     },
     "metadata": {},
     "output_type": "display_data"
    }
   ],
   "source": [
    "# if draw_ngl:\n",
    "traj = md.Trajectory(trajectory, topology=alanine.mdtraj_topology)\n",
    "traj.save('trajectory_alanine_dipeptide.pdb')\n",
    "# traj.superimpose(trajectory, frame=0)\n",
    "view = nv.show_mdtraj(traj)\n",
    "view"
   ]
  },
  {
   "cell_type": "code",
   "execution_count": 78,
   "id": "indie-possibility",
   "metadata": {},
   "outputs": [],
   "source": [
    "# uncomment to select frame, reflects in above view\n",
    "# view.frame = 0"
   ]
  },
  {
   "cell_type": "code",
   "execution_count": 77,
   "id": "sporting-complexity",
   "metadata": {
    "scrolled": true
   },
   "outputs": [
    {
     "name": "stdout",
     "output_type": "stream",
     "text": [
      "\n",
      "[MoviePy] Building file my_movie.gif with imageio\n"
     ]
    },
    {
     "name": "stderr",
     "output_type": "stream",
     "text": [
      " 99%|█████████▉| 100/101 [00:14<00:00,  6.90it/s]\n"
     ]
    },
    {
     "data": {
      "text/html": [
       "<img src='my_movie.gif'></img>"
      ],
      "text/plain": [
       "<IPython.core.display.HTML object>"
      ]
     },
     "execution_count": 77,
     "metadata": {},
     "output_type": "execute_result"
    }
   ],
   "source": [
    "# download \n",
    "# code for this cell: https://ambermd.org/tutorials/analysis/tutorial_notebooks/nglview_movie/index.html\n",
    "import moviepy.editor as mpy\n",
    "\n",
    "from time import sleep\n",
    "\n",
    "\n",
    "for frame in range(0, timesteps):\n",
    "    # set frame to update coordinates\n",
    "    view.frame = frame\n",
    "    # make sure to let NGL spending enough time to update coordinates\n",
    "    # sleep(0.5)\n",
    "    view.download_image(filename='0image{}.png'.format(frame))\n",
    "    # make sure to let NGL spending enough time to render before going to next frame\n",
    "    sleep(2.0)\n",
    "\n",
    "# end download code\n",
    "# begin stitching-into-gif code\n",
    "    \n",
    "# In my case, my default download folder is /Users/haichit/Downloads/\n",
    "template = '/Users/alasg/Downloads/0image{}.png'\n",
    "\n",
    "# get all (sorted) image files\n",
    "imagefiles = [template.format(str(i)) for i in range(0, timesteps, 1)]\n",
    "\n",
    "frames_per_second = 8\n",
    "im = mpy.ImageSequenceClip(imagefiles, fps=frames_per_second)\n",
    "im.write_gif('my_movie.gif', fps=frames_per_second)\n",
    "# im.write_videofile('my_movie.mp4', fps=frame_per_second)\n",
    "from IPython import display\n",
    "\n",
    "display.HTML(\"<img src='my_movie.gif'></img>\")"
   ]
  },
  {
   "cell_type": "code",
   "execution_count": 59,
   "id": "proper-visibility",
   "metadata": {
    "scrolled": true
   },
   "outputs": [
    {
     "data": {
      "application/vnd.jupyter.widget-view+json": {
       "model_id": "966d02a667d543a8b1de040ae04c3bbb",
       "version_major": 2,
       "version_minor": 0
      },
      "text/plain": [
       "IntProgress(value=0, description='Rendering ...', max=51)"
      ]
     },
     "metadata": {},
     "output_type": "display_data"
    }
   ],
   "source": [
    "from nglview.contrib.movie import MovieMaker\n",
    "movie = MovieMaker(view, download_folder='/Users/alasg/Downloads/', output='my.gif', in_memory=True)\n",
    "movie.make()"
   ]
  },
  {
   "cell_type": "code",
   "execution_count": 40,
   "id": "applied-british",
   "metadata": {
    "scrolled": false
   },
   "outputs": [
    {
     "data": {
      "application/vnd.jupyter.widget-view+json": {
       "model_id": "0c09eef7c83746b497f39dbf6e65f782",
       "version_major": 2,
       "version_minor": 0
      },
      "text/plain": [
       "IntProgress(value=0, description='Rendering ...', max=101)"
      ]
     },
     "metadata": {},
     "output_type": "display_data"
    }
   ],
   "source": [
    "# from nglview.contrib.movie import MovieMaker\n",
    "# moviepy_params = {\n",
    "#     'codec': 'mpeg4'\n",
    "# }\n",
    "# movie = MovieMaker(view, output='my.avi', in_memory=False, moviepy_params=moviepy_params)\n",
    "# movie.make()"
   ]
  },
  {
   "cell_type": "code",
   "execution_count": 33,
   "id": "qualified-woman",
   "metadata": {
    "scrolled": true
   },
   "outputs": [],
   "source": [
    "# JUST TO TEST NGLVIEW INSTALLATION\n",
    "# import nglview as ngl\n",
    "\n",
    "# view = nv.show_file(nv.datafiles.ALA3)\n",
    "# view"
   ]
  },
  {
   "cell_type": "code",
   "execution_count": null,
   "id": "variable-differential",
   "metadata": {},
   "outputs": [],
   "source": []
  }
 ],
 "metadata": {
  "kernelspec": {
   "display_name": "Python 3",
   "language": "python",
   "name": "python3"
  },
  "language_info": {
   "codemirror_mode": {
    "name": "ipython",
    "version": 3
   },
   "file_extension": ".py",
   "mimetype": "text/x-python",
   "name": "python",
   "nbconvert_exporter": "python",
   "pygments_lexer": "ipython3",
   "version": "3.7.9"
  }
 },
 "nbformat": 4,
 "nbformat_minor": 5
}
